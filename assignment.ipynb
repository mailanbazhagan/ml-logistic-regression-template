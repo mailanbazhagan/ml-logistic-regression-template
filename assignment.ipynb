{
  "nbformat": 4,
  "nbformat_minor": 0,
  "metadata": {
    "colab": {
      "provenance": []
    },
    "kernelspec": {
      "name": "python3",
      "display_name": "Python 3"
    },
    "language_info": {
      "name": "python"
    }
  },
  "cells": [
    {
      "cell_type": "code",
      "execution_count": null,
      "metadata": {
        "id": "kgtqNwQNbEL4"
      },
      "outputs": [],
      "source": [
        "# Cell 1: Import libraries\n",
        "import numpy as np\n",
        "import pandas as pd\n",
        "from sklearn.linear_model import LogisticRegression\n",
        "from sklearn.metrics import accuracy_score"
      ]
    },
    {
      "cell_type": "code",
      "source": [
        "# Cell 2: Load dataset\n",
        "# Students will add code to load dataset"
      ],
      "metadata": {
        "id": "fUqyiQGybKQ2"
      },
      "execution_count": null,
      "outputs": []
    },
    {
      "cell_type": "code",
      "source": [
        "# Cell 3: Train model\n",
        "# Students will train a logistic regression classifier"
      ],
      "metadata": {
        "id": "6odhHjxibMO_"
      },
      "execution_count": null,
      "outputs": []
    },
    {
      "cell_type": "code",
      "source": [
        "# Cell 4: Evaluate model\n",
        "# Students will calculate and print accuracy"
      ],
      "metadata": {
        "id": "MuuRuR7FbN2F"
      },
      "execution_count": null,
      "outputs": []
    }
  ]
}